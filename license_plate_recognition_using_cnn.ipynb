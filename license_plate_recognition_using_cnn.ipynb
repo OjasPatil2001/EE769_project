{
  "cells": [
    {
      "metadata": {
        "id": "ycRjhI25UC-P",
        "trusted": true
      },
      "cell_type": "code",
      "source": [
        "import matplotlib.pyplot as plt\n",
        "import numpy as np\n",
        "import cv2\n",
        "import tensorflow as tf\n",
        "from sklearn.metrics import f1_score \n",
        "from tensorflow.keras import optimizers\n",
        "from tensorflow.keras.models import Sequential\n",
        "from tensorflow.keras.preprocessing.image import ImageDataGenerator\n",
        "from tensorflow.keras.layers import Dense, Flatten, MaxPooling2D, Dropout, Conv2D\n",
        "from google.colab import drive\n",
        "drive.mount('/content/drive')"
      ],
      "execution_count": null,
      "outputs": []
    },
    {
      "metadata": {
        "id": "fMDZHcIuGJLe",
        "trusted": true
      },
      "cell_type": "code",
      "source": [
        "# Loads the data required for detecting the license plates from cascade classifier.\n",
        "plate_cascade = cv2.CascadeClassifier('/content/drive/MyDrive/EE769/archive/indian_license_plate.xml')\n",
        "# add the path to 'india_license_plate.xml' file.\n",
        "#which are rectangular features that can be used to detect edges, corners, and other texture patterns in an image. "
      ],
      "execution_count": null,
      "outputs": []
    },
    {
      "metadata": {
        "id": "r6BZ2WY8GJHM",
        "trusted": true
      },
      "cell_type": "code",
      "source": [
        "def plate_detect(img, text=''): # the function detects and perfors blurring on the number plate.\n",
        "    plate_img = img.copy()\n",
        "    roi = img.copy()\n",
        "    plate_rect = plate_cascade.detectMultiScale(plate_img, scaleFactor = 1.2, minNeighbors = 7) # detects numberplates and returns the coordinates and dimensions of detected license plate's contours.\n",
        "    for (x,y,w,h) in plate_rect:\n",
        "        roi_ = roi[y:y+h, x:x+w, :] # extracting the Region of Interest of license plate for blurring.\n",
        "        plate = roi[y:y+h, x:x+w, :]\n",
        "        cv2.rectangle(plate_img, (x+2,y), (x+w-3, y+h-5), (51,181,155), 3) # finally representing the detected contours by drawing rectangles around the edges.\n",
        "    if text!='':\n",
        "        plate_img = cv2.putText(plate_img, text, (x-w//2,y-h//2), \n",
        "                                cv2.FONT_HERSHEY_COMPLEX_SMALL , 0.5, (51,181,155), 1, cv2.LINE_AA)\n",
        "        \n",
        "    return plate_img, plate # returning the processed image."
      ],
      "execution_count": null,
      "outputs": []
    },
    {
      "metadata": {
        "id": "RJ8ScvVJGgH_",
        "trusted": true
      },
      "cell_type": "code",
      "source": [
        "# displaying the image \n",
        "def display(img_, title=''):\n",
        "    img = cv2.cvtColor(img_, cv2.COLOR_BGR2RGB)\n",
        "    fig = plt.figure(figsize=(10,6))\n",
        "    ax = plt.subplot(111)\n",
        "    ax.imshow(img)\n",
        "    plt.axis('off')\n",
        "    plt.title(title)\n",
        "    plt.show()\n",
        "\n",
        "img = cv2.imread('/content/drive/MyDrive/EE769/archive/car.jpg')\n",
        "display(img, 'input image')"
      ],
      "execution_count": null,
      "outputs": []
    },
    {
      "metadata": {
        "id": "TIMcAMmUGgFB",
        "trusted": true
      },
      "cell_type": "code",
      "source": [
        "# Getting plate prom the processed image\n",
        "outp, plate = plate_detect(img)"
      ],
      "execution_count": null,
      "outputs": []
    },
    {
      "metadata": {
        "id": "zCfOMO__HEUf",
        "trusted": true
      },
      "cell_type": "code",
      "source": [
        "display(outp, 'detected license plate in the input image')"
      ],
      "execution_count": null,
      "outputs": []
    },
    {
      "metadata": {
        "id": "kGk622P-HERv",
        "trusted": true
      },
      "cell_type": "code",
      "source": [
        "display(plate, 'extracted license plate from the image')"
      ],
      "execution_count": null,
      "outputs": []
    },
    {
      "metadata": {
        "id": "MzopHrMvUC-Z",
        "trusted": true
      },
      "cell_type": "code",
      "source": [
        "# Match contours to license plate or character template\n",
        "def find_contours(dimensions, img) :\n",
        "\n",
        "    # Find all contours in the image\n",
        "    cntrs, _ = cv2.findContours(img.copy(), cv2.RETR_TREE, cv2.CHAIN_APPROX_SIMPLE)\n",
        "\n",
        "    # Retrieve potential dimensions\n",
        "    lower_width = dimensions[0]\n",
        "    upper_width = dimensions[1]\n",
        "    lower_height = dimensions[2]\n",
        "    upper_height = dimensions[3]\n",
        "    \n",
        "    # Check largest 5 or  15 contours for license plate or character respectively\n",
        "    cntrs = sorted(cntrs, key=cv2.contourArea, reverse=True)[:15]\n",
        "    \n",
        "    ii = cv2.imread('contour.jpg')\n",
        "    \n",
        "    x_cntr_list = []\n",
        "    target_contours = []\n",
        "    img_res = []\n",
        "    for cntr in cntrs :\n",
        "        # detects contour in binary image and returns the coordinates of rectangle enclosing it\n",
        "        X, Y, W, H = cv2.boundingRect(cntr)\n",
        "        \n",
        "        # checking the dimensions of the contour to filter out the characters by contour's size\n",
        "        if W > lower_width and W < upper_width and H > lower_height and H < upper_height :\n",
        "            x_cntr_list.append(X) #stores the x coordinate of the character's contour, to used later for indexing the contours\n",
        "\n",
        "            copy = np.zeros((44,24))\n",
        "            # extracting each character using the enclosing rectangle's coordinates.\n",
        "            char = img[Y:Y+H, X:X+W]\n",
        "            char = cv2.resize(char, (20, 40))\n",
        "            \n",
        "            cv2.rectangle(ii, (X,Y), (W+X, Y+H), (50,21,200), 2)\n",
        "            plt.imshow(ii, cmap='gray')\n",
        "\n",
        "            # Make result formatted for classification: invert colors\n",
        "            char = cv2.subtract(255, char)\n",
        "\n",
        "            # Resize the image to 24x44 with black border\n",
        "            copy[2:42, 2:22] = char\n",
        "            copy[0:2, :] = 0\n",
        "            copy[:, 0:2] = 0\n",
        "            copy[42:44, :] = 0\n",
        "            copy[:, 22:24] = 0\n",
        "\n",
        "            img_res.append(copy) # List that stores the character's binary image (unsorted)\n",
        "            \n",
        "    # Return characters on ascending order with respect to the x-coordinate (most-left character first)\n",
        "            \n",
        "    plt.show()\n",
        "    # arbitrary function that stores sorted list of character indeces\n",
        "    indices = sorted(range(len(x_cntr_list)), key=lambda k: x_cntr_list[k])\n",
        "    img_res_copy = []\n",
        "    for idx in indices:\n",
        "        img_res_copy.append(img_res[idx])# stores character images according to their index\n",
        "    img_res = np.array(img_res_copy)\n",
        "\n",
        "    return img_res"
      ],
      "execution_count": null,
      "outputs": []
    },
    {
      "metadata": {
        "id": "h23diSmEUC-e",
        "trusted": true
      },
      "cell_type": "code",
      "source": [
        "# Find characters in the resulting images\n",
        "def segment_characters(image) :\n",
        "\n",
        "    # Preprocess cropped license plate image\n",
        "    img_lp = cv2.resize(image, (333, 75))\n",
        "    plt.imshow(img_lp, cmap='gray')\n",
        "    plt.show()\n",
        "    # converting the image to grayscale\n",
        "    img_gray_lp = cv2.cvtColor(img_lp, cv2.COLOR_BGR2GRAY) \n",
        "    plt.imshow(img_gray_lp, cmap='gray')\n",
        "    plt.show()\n",
        "    # Thresholding the image and using binarise the image\n",
        "    _, img_binary_lp = cv2.threshold(img_gray_lp, 200, 255, cv2.THRESH_BINARY+cv2.THRESH_OTSU)\n",
        "    # Eroding and dilating the image\n",
        "    img_binary_lp = cv2.erode(img_binary_lp, (3,3))\n",
        "    plt.imshow(img_binary_lp, cmap='gray')\n",
        "    plt.show()\n",
        "    img_binary_lp = cv2.dilate(img_binary_lp, (3,3))\n",
        "    plt.imshow(img_binary_lp, cmap='gray')\n",
        "    plt.show()\n",
        "\n",
        "    LP_WIDTH = img_binary_lp.shape[0]\n",
        "    LP_HEIGHT = img_binary_lp.shape[1]\n",
        "\n",
        "    # Make borders white\n",
        "    img_binary_lp[0:3,:] = 255\n",
        "    img_binary_lp[:,0:3] = 255\n",
        "    img_binary_lp[72:75,:] = 255\n",
        "    img_binary_lp[:,330:333] = 255\n",
        "\n",
        "    # Estimations of character contours sizes of cropped license plates\n",
        "    dimensions = [LP_WIDTH/6,\n",
        "                       LP_WIDTH/2,\n",
        "                       LP_HEIGHT/10,\n",
        "                       2*LP_HEIGHT/3]\n",
        "    plt.imshow(img_binary_lp, cmap='gray')\n",
        "    plt.show()\n",
        "    cv2.imwrite('contour.jpg',img_binary_lp)\n",
        "\n",
        "    # Get contours within cropped license plate\n",
        "    char_list = find_contours(dimensions, img_binary_lp)\n",
        "\n",
        "    return char_list"
      ],
      "execution_count": null,
      "outputs": []
    },
    {
      "metadata": {
        "id": "OGhFmSnYUC-j",
        "trusted": true
      },
      "cell_type": "code",
      "source": [
        "# Let's see the segmented characters\n",
        "char = segment_characters(plate)"
      ],
      "execution_count": null,
      "outputs": []
    },
    {
      "metadata": {
        "id": "rZoiyrDaUC-p",
        "trusted": true
      },
      "cell_type": "code",
      "source": [
        "# Now we see those characters separately\n",
        "for i in range(7):\n",
        "    plt.subplot(1, 10, i+1)\n",
        "    plt.imshow(char[i], cmap='gray')\n",
        "    plt.axis('off')"
      ],
      "execution_count": null,
      "outputs": []
    },
    {
      "metadata": {
        "id": "QXhqHfXLUC-9"
      },
      "cell_type": "markdown",
      "source": [
        "### Model for characters"
      ]
    },
    {
      "metadata": {
        "id": "BhrsmfX9UC_p",
        "trusted": true
      },
      "cell_type": "code",
      "source": [
        "import tensorflow.keras.backend as K\n",
        "train_datagen = ImageDataGenerator(rescale=1./255, width_shift_range=0.1, height_shift_range=0.1)\n",
        "path = '/content/drive/MyDrive/EE769/archive/data/data'\n",
        "generator_train = train_datagen.flow_from_directory(\n",
        "        path+'/train',  # this is the target directory\n",
        "        target_size=(28,28),  # all images will be resized to 28x28\n",
        "        batch_size=1,\n",
        "        class_mode='sparse')\n",
        "generator_vald = train_datagen.flow_from_directory(\n",
        "        path+'/val',  # this is the target directory\n",
        "        target_size=(28,28),  # all images will be resized to 28x28 batch_size=1,\n",
        "        class_mode='sparse')"
      ],
      "execution_count": null,
      "outputs": []
    },
    {
      "metadata": {
        "id": "WXdiO1Kq9kPI",
        "trusted": true
      },
      "cell_type": "code",
      "source": [
        "# Metrics for checking the model performance while training\n",
        "def f1score(y, y_pred):\n",
        "  return f1_score(y, tf.math.argmax(y_pred, axis=1), average='micro') \n",
        "\n",
        "def custom_f1score(y, y_pred):\n",
        "  return tf.py_function(f1score, (y, y_pred), tf.double)"
      ],
      "execution_count": null,
      "outputs": []
    },
    {
      "metadata": {
        "id": "8IjCdBYrp4EK",
        "trusted": true
      },
      "cell_type": "code",
      "source": [
        "# Defining the neural networks \n",
        "K.clear_session()\n",
        "model = Sequential()\n",
        "model.add(Conv2D(16, (22,22), input_shape=(28, 28, 3), activation='relu', padding='same'))\n",
        "model.add(Conv2D(32, (16,16), input_shape=(28, 28, 3), activation='relu', padding='same'))\n",
        "model.add(Conv2D(64, (8,8), input_shape=(28, 28, 3), activation='relu', padding='same'))\n",
        "model.add(Conv2D(64, (4,4), input_shape=(28, 28, 3), activation='relu', padding='same'))\n",
        "model.add(MaxPooling2D(pool_size=(4, 4)))\n",
        "model.add(Dropout(0.4))\n",
        "model.add(Flatten())\n",
        "model.add(Dense(128, activation='relu'))\n",
        "model.add(Dense(36, activation='softmax'))\n",
        "\n",
        "model.compile(loss='sparse_categorical_crossentropy', optimizer=optimizers.Adam(learning_rate=0.0001), metrics=[custom_f1score])"
      ],
      "execution_count": null,
      "outputs": []
    },
    {
      "metadata": {
        "trusted": true,
        "id": "SASBTXpfSCQG"
      },
      "cell_type": "code",
      "source": [
        "model.summary()"
      ],
      "execution_count": null,
      "outputs": []
    },
    {
      "metadata": {
        "id": "w5aaqsHABUwx",
        "trusted": true
      },
      "cell_type": "code",
      "source": [
        "class callback(tf.keras.callbacks.Callback):\n",
        "  def at_the_end(self, epoch, logs={}):\n",
        "    if(logs.get('val_custom_f1score') > 0.998):\n",
        "      self.model.stop_training = True"
      ],
      "execution_count": null,
      "outputs": []
    },
    {
      "metadata": {
        "id": "KPAtDd_Jp4BP",
        "trusted": true
      },
      "cell_type": "code",
      "source": [
        "batch_size = 1\n",
        "callbacks = [callback()]\n",
        "history = model.fit_generator(\n",
        "      generator_train,\n",
        "      steps_per_epoch = generator_train.samples // batch_size,\n",
        "      validation_data = generator_vald, \n",
        "      epochs = 80, verbose=1, callbacks=callbacks)"
      ],
      "execution_count": null,
      "outputs": []
    },
    {
      "cell_type": "code",
      "source": [
        "loss_train = history.history['loss']\n",
        "loss_val = history.history['val_loss']\n",
        "epochs = range(14)\n",
        "plt.plot(epochs, loss_train, 'g', label='Training loss')\n",
        "plt.plot(epochs, loss_val, 'b', label='validation loss')\n",
        "plt.title('Training and Validation loss')\n",
        "plt.xlabel('Epochs')\n",
        "plt.ylabel('Loss')\n",
        "plt.legend()\n",
        "plt.show()"
      ],
      "metadata": {
        "id": "GdRHru_SJ1pX"
      },
      "execution_count": null,
      "outputs": []
    },
    {
      "cell_type": "code",
      "source": [
        "loss_train = history.history['custom_f1score']\n",
        "loss_val = history.history['val_custom_f1score']\n",
        "epochs = range(14)\n",
        "plt.plot(epochs, loss_train, 'g', label='Training f1score')\n",
        "plt.plot(epochs, loss_val, 'b', label='Validation f1score')\n",
        "plt.title('Training and Validation F1-score')\n",
        "plt.xlabel('Epochs')\n",
        "plt.ylabel('F1 score')\n",
        "plt.legend()\n",
        "plt.show()"
      ],
      "metadata": {
        "id": "moCF4Q5xMay5"
      },
      "execution_count": null,
      "outputs": []
    },
    {
      "metadata": {
        "id": "3PICNwtZUDAD",
        "trusted": true
      },
      "cell_type": "code",
      "source": [
        "l# Predicting the output\n",
        "def fix_dimension(img): \n",
        "  new_img = np.zeros((28,28,3))\n",
        "  for i in range(3):\n",
        "    new_img[:,:,i] = img\n",
        "  return new_img\n",
        "  \n",
        "def results():\n",
        "    dic = {}\n",
        "    characters = '0123456789ABCDEFGHIJKLMNOPQRSTUVWXYZ'\n",
        "    for i,c in enumerate(characters):\n",
        "        dic[i] = c\n",
        "\n",
        "    op = []\n",
        "    for i,ch in enumerate(char): #iterating over the characters\n",
        "        img_ = cv2.resize(ch, (28,28), interpolation=cv2.INTER_AREA)\n",
        "        img = fix_dimension(img_)\n",
        "        img = img.reshape(1,28,28,3) #preparing image for the model\n",
        "        y = np.argmax(model.predict(img), axis=-1)[0] #predicting the class\n",
        "        ch = dic[y] #\n",
        "        op.append(ch) #storing the result in a list\n",
        "        \n",
        "    number = ''.join(op)\n",
        "    \n",
        "    return number\n",
        "\n",
        "print(results())"
      ],
      "execution_count": null,
      "outputs": []
    },
    {
      "metadata": {
        "id": "urZpH4YFUDAI",
        "trusted": true
      },
      "cell_type": "code",
      "source": [
        "# Segmented characters and their predicted value.\n",
        "plt.figure(figsize=(10,6))\n",
        "for i,ch in enumerate(char):\n",
        "    img = cv2.resize(ch, (28,28), interpolation=cv2.INTER_AREA)\n",
        "    plt.subplot(3,4,i+1)\n",
        "    plt.imshow(img,cmap='gray')\n",
        "    plt.title(f'predicted: {results()[i]}')\n",
        "    plt.axis('off')\n",
        "plt.show()"
      ],
      "execution_count": null,
      "outputs": []
    },
    {
      "metadata": {
        "id": "uBboEZgAUDAT",
        "trusted": true
      },
      "cell_type": "code",
      "source": [
        "plate_number = results()\n",
        "img = cv2.imread('/content/drive/MyDrive/EE769/archive/car.jpg')\n",
        "output_img, plate = plate_detect(img, plate_number)\n",
        "display(output_img, 'detected license plate number in the input image')"
      ],
      "execution_count": null,
      "outputs": []
    }
  ],
  "metadata": {
    "kernelspec": {
      "name": "python3",
      "display_name": "Python 3",
      "language": "python"
    },
    "language_info": {
      "name": "python",
      "version": "3.7.6",
      "mimetype": "text/x-python",
      "codemirror_mode": {
        "name": "ipython",
        "version": 3
      },
      "pygments_lexer": "ipython3",
      "nbconvert_exporter": "python",
      "file_extension": ".py"
    },
    "colab": {
      "private_outputs": true,
      "provenance": []
    },
    "accelerator": "GPU",
    "gpuClass": "standard"
  },
  "nbformat": 4,
  "nbformat_minor": 0
}